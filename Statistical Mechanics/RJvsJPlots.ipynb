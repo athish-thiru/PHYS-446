{
 "cells": [
  {
   "cell_type": "code",
   "execution_count": 3,
   "id": "5cf2d4b3",
   "metadata": {},
   "outputs": [],
   "source": [
    "import numpy as np\n",
    "import matplotlib.pyplot as plt"
   ]
  },
  {
   "cell_type": "code",
   "execution_count": 10,
   "id": "540ccb7f",
   "metadata": {},
   "outputs": [
    {
     "data": {
      "text/plain": [
       "array([0.        , 0.01782449, 0.06133862, 0.14346063, 0.3063309 ,\n",
       "       0.61800114, 0.98449269, 1.        , 1.        , 1.        ,\n",
       "       1.        ])"
      ]
     },
     "execution_count": 10,
     "metadata": {},
     "output_type": "execute_result"
    }
   ],
   "source": [
    "Rj = np.load(\"RJ.npy\")\n",
    "betas = np.load(\"betas.npy\")\n",
    "Rj"
   ]
  },
  {
   "cell_type": "code",
   "execution_count": 50,
   "id": "53e2f738",
   "metadata": {},
   "outputs": [
    {
     "data": {
      "image/png": "[encoded data removed]",
      "text/plain": [
       "<Figure size 432x288 with 1 Axes>"
      ]
     },
     "metadata": {
      "needs_background": "light"
     },
     "output_type": "display_data"
    }
   ],
   "source": [
    "plt.plot(betas, Rj)\n",
    "plt.plot(betas, betas)\n",
    "plt.arrow(0.35, x1, 0, 0.35 - x1)\n",
    "plt.arrow(0.35, x1, -0.35+x1, 0)\n",
    "plt.arrow(x1, x2, 0, x1-x2)\n",
    "plt.arrow(x1, x2, -x1+x2, 0)\n",
    "plt.arrow(x2, x3, 0, x2-x3)\n",
    "plt.arrow(x2, x3, -x2+x3, 0)\n",
    "plt.arrow(0.5, x4, 0, -x4 + 0.5)\n",
    "plt.arrow(0.5, x4, x4 - 0.5, 0)\n",
    "plt.arrow(x4, x5, 0, -x5 + x4)\n",
    "plt.arrow(x4, x5, x5 - x4, 0)\n",
    "plt.title(\"R(J) vs. J\")\n",
    "plt.xlabel(\"J\")\n",
    "plt.ylabel(\"R(j)\")\n",
    "plt.savefig(\"RJvsJwithArrows\")\n",
    "plt.show()"
   ]
  },
  {
   "cell_type": "code",
   "execution_count": 23,
   "id": "4fd63684",
   "metadata": {},
   "outputs": [
    {
     "data": {
      "text/plain": [
       "0.2248957645718977"
      ]
     },
     "execution_count": 23,
     "metadata": {},
     "output_type": "execute_result"
    }
   ],
   "source": [
    "x1 = np.interp(0.35, betas, Rj, 0, 1)\n",
    "#(0.35, x1)\n",
    "x1"
   ]
  },
  {
   "cell_type": "code",
   "execution_count": 32,
   "id": "dd4a0cc3",
   "metadata": {},
   "outputs": [
    {
     "data": {
      "text/plain": [
       "0.014577493778592219"
      ]
     },
     "execution_count": 32,
     "metadata": {},
     "output_type": "execute_result"
    }
   ],
   "source": [
    "x2 = np.interp(x1, betas, Rj, 0, 1)\n",
    "x3 = np.interp(x2, betas, Rj, 0, 1)\n",
    "x3"
   ]
  },
  {
   "cell_type": "code",
   "execution_count": 42,
   "id": "7a9d6299",
   "metadata": {},
   "outputs": [
    {
     "data": {
      "text/plain": [
       "1.0"
      ]
     },
     "execution_count": 42,
     "metadata": {},
     "output_type": "execute_result"
    }
   ],
   "source": [
    "x4 = np.interp(0.5, betas, Rj, 0, 1)\n",
    "x5 = np.interp(x4, betas, Rj, 0, 1)\n",
    "x6 = np.interp(x5, betas, Rj, 0, 1)\n",
    "x6"
   ]
  },
  {
   "cell_type": "code",
   "execution_count": 49,
   "id": "dfd0cfa2",
   "metadata": {},
   "outputs": [
    {
     "data": {
      "text/plain": [
       "0.789241909633328"
      ]
     },
     "execution_count": 49,
     "metadata": {},
     "output_type": "execute_result"
    }
   ],
   "source": [
    "m = (x4-x3)/0.15\n",
    "v = np.log10(m)/np.log10(3)\n",
    "1/v"
   ]
  },
  {
   "cell_type": "code",
   "execution_count": null,
   "id": "b3cdde54",
   "metadata": {},
   "outputs": [],
   "source": []
  }
 ],
 "metadata": {
  "kernelspec": {
   "display_name": "Python 3 (ipykernel)",
   "language": "python",
   "name": "python3"
  },
  "language_info": {
   "codemirror_mode": {
    "name": "ipython",
    "version": 3
   },
   "file_extension": ".py",
   "mimetype": "text/x-python",
   "name": "python",
   "nbconvert_exporter": "python",
   "pygments_lexer": "ipython3",
   "version": "3.9.7"
  }
 },
 "nbformat": 4,
 "nbformat_minor": 5
}
